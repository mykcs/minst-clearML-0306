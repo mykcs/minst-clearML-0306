{
 "cells": [
  {
   "cell_type": "code",
   "execution_count": 2,
   "id": "26f467e1df582a4b",
   "metadata": {
    "collapsed": false,
    "ExecuteTime": {
     "end_time": "2024-03-06T10:40:59.056277Z",
     "start_time": "2024-03-06T10:40:58.363538Z"
    }
   },
   "outputs": [
    {
     "name": "stdout",
     "output_type": "stream",
     "text": [
      "tensor([[0.8881, 0.9362, 0.2069],\n",
      "        [0.9978, 0.7610, 0.1466],\n",
      "        [0.8930, 0.0462, 0.0046],\n",
      "        [0.3822, 0.2899, 0.0651],\n",
      "        [0.5120, 0.3795, 0.0428]])\n"
     ]
    }
   ],
   "source": [
    "import torch\n",
    "x = torch.rand(5, 3)\n",
    "print(x)"
   ]
  },
  {
   "cell_type": "code",
   "execution_count": 3,
   "id": "6470d855cc69b83d",
   "metadata": {
    "collapsed": false,
    "ExecuteTime": {
     "end_time": "2024-03-06T10:41:00.582513Z",
     "start_time": "2024-03-06T10:41:00.579814Z"
    }
   },
   "outputs": [
    {
     "name": "stdout",
     "output_type": "stream",
     "text": [
      "PYTHONPATH: /Users/myk/PycharmProjects/pythonProject\n",
      "PATH: /Users/myk/anaconda3/envs/wyy20231222/bin:/Users/myk/anaconda3/condabin:/opt/homebrew/bin:/opt/homebrew/sbin:/usr/local/bin:/System/Cryptexes/App/usr/bin:/usr/bin:/bin:/usr/sbin:/sbin:/var/run/com.apple.security.cryptexd/codex.system/bootstrap/usr/local/bin:/var/run/com.apple.security.cryptexd/codex.system/bootstrap/usr/bin:/var/run/com.apple.security.cryptexd/codex.system/bootstrap/usr/appleinternal/bin:/Library/Apple/usr/bin:/usr/local/share/dotnet:~/.dotnet/tools:/Users/myk/Library/Application Support/JetBrains/Toolbox/scripts\n",
      "CUDA: False\n",
      "3.9.18 (main, Sep 11 2023, 08:25:10) \n",
      "[Clang 14.0.6 ]\n"
     ]
    }
   ],
   "source": [
    "import os\n",
    "print(\"PYTHONPATH:\", os.environ.get('PYTHONPATH'))\n",
    "print(\"PATH:\", os.environ.get('PATH'))\n",
    "print(\"CUDA:\", torch.cuda.is_available())\n",
    "import sys\n",
    "print(sys.version)"
   ]
  },
  {
   "cell_type": "code",
   "execution_count": 1,
   "id": "a4bbaa384cf55d0f",
   "metadata": {
    "ExecuteTime": {
     "end_time": "2024-01-12T03:16:28.069976Z",
     "start_time": "2024-01-12T03:16:27.931527Z"
    },
    "collapsed": false
   },
   "outputs": [
    {
     "name": "stdout",
     "output_type": "stream",
     "text": [
      "prior_probabilit = {1: 10, -1: 7}\n",
      "conditional_probability =  {'-1,0,1': 3, '-1,1,S': 3, '-1,1,M': 2, '1,0,1': 2, '1,1,M': 4, '1,1,S': 1, '-1,0,2': 2, '1,0,2': 3, '1,1,L': 4, '1,0,3': 4, '-1,0,3': 1, '-1,1,L': 1}\n",
      "3\n",
      "3\n",
      "3\n",
      "3\n",
      "3\n",
      "3\n",
      "3\n",
      "3\n",
      "3\n",
      "3\n",
      "3\n",
      "3\n",
      "conditional_probability =  {'-1,0,1': 0.4, '-1,1,S': 0.4, '-1,1,M': 0.3, '1,0,1': 0.23076923076923078, '1,1,M': 0.38461538461538464, '1,1,S': 0.15384615384615385, '-1,0,2': 0.3, '1,0,2': 0.3076923076923077, '1,1,L': 0.38461538461538464, '1,0,3': 0.38461538461538464, '-1,0,3': 0.2, '-1,1,L': 0.2}\n",
      "result = {1: 0.027845457709711106, -1: 0.04941176470588235}\n",
      " r_label = -1\n"
     ]
    }
   ],
   "source": [
    "import numpy as np\n",
    " \n",
    "def loaddata():\n",
    "    X = np.array([[1,'S'],[1,'M'],[1,'M'],[1,'S'],\n",
    "         [1, 'S'], [2, 'S'], [2, 'M'], [2, 'M'],\n",
    "         [2, 'L'], [2, 'L'], [3, 'L'], [3, 'M'],\n",
    "         [3, 'M'], [3, 'L'], [3, 'L']])\n",
    "    y = np.array([-1,-1,1,1,-1,-1,-1,1,1,1,1,1,1,1,-1])\n",
    "    return X, y\n",
    " \n",
    "# 训练、计算各个概率值\n",
    "def Train(trainset, train_labels):\n",
    "    # 数据量\n",
    "    m = trainset.shape[0]\n",
    "    # 特征数\n",
    "    n = trainset.shape[1]\n",
    "    # 先验概率,key是类别值，value是类别的概率值\n",
    "    prior_probability = {}\n",
    "    # 条件概率，key的构造：类别，特征，特征值,value是\n",
    "    conditional_probability = {}\n",
    " \n",
    "    # 类别的可能取值\n",
    "    labels = set(train_labels)\n",
    "    # 计算先验概率,此时没有计算总数据量m\n",
    "    for label in labels:\n",
    "        prior_probability[label] = len(train_labels[train_labels == label]) + 1\n",
    "    print('prior_probabilit =', prior_probability)\n",
    " \n",
    "    # 计算条件概率\n",
    "    for i in range(m):\n",
    "        for j in range(n):\n",
    "            # key的构造：类别，特征，特征值\n",
    "            key = str(train_labels[i]) + ',' + str(j) + ',' + str(trainset[i][j])\n",
    "            if key in conditional_probability:\n",
    "                conditional_probability[key] += 1\n",
    "            else:\n",
    "                conditional_probability[key] = 1\n",
    "    print('conditional_probability = ', conditional_probability)\n",
    " \n",
    "    # 因字典在循环时不能改变，故定义新字典来保存值\n",
    "    conditional_probability_final = {}\n",
    "    for key in conditional_probability:\n",
    "        # 取出当前的类别\n",
    "        label = key.split(',')[0]\n",
    "        key1 = key.split(',')[1]\n",
    "        Ni = len(set(trainset[:, int(key1)]))\n",
    "        print(Ni)\n",
    "        conditional_probability_final[key] = (conditional_probability[key] + 1) / (prior_probability[int(label)] +Ni)\n",
    " \n",
    "    # 最终先验概率（除以总数据量m）\n",
    "    for label in labels:\n",
    "        prior_probability[label] = prior_probability[label] / (m + len(labels))\n",
    " \n",
    "    return prior_probability, conditional_probability_final, labels\n",
    " \n",
    "# 定义预测函数\n",
    "def predict(data):\n",
    "    result = {}\n",
    "    # 循环标签\n",
    "    for label in train_labels_set:\n",
    "        temp = 1.0\n",
    "        for j in range(len(data)):\n",
    "            key = str(label) + ',' + str(j) + ',' + str(data[j])\n",
    "            # 条件概率连乘\n",
    "            temp = temp * conditional_probability[key]\n",
    "        # 在乘上先验概率\n",
    "        result[label] = temp * prior_probability[label]\n",
    "    print('result =', result)\n",
    "    # 排序返回标签值\n",
    "    return sorted(result.items(), key=lambda x: x[1], reverse=True)[0][0]\n",
    " \n",
    "X,y = loaddata()\n",
    "prior_probability,conditional_probability,train_labels_set = Train(X,y)\n",
    "print('conditional_probability = ', conditional_probability)\n",
    "r_label = predict([2,'S'])\n",
    "print(' r_label =', r_label)"
   ]
  },
  {
   "cell_type": "code",
   "execution_count": 6,
   "id": "5de3a28ca994914e",
   "metadata": {
    "collapsed": false
   },
   "outputs": [],
   "source": [
    "import numpy as np\n",
    "import matplotlib.pyplot as plt\n",
    "import seaborn as sns\n",
    "from sklearn.datasets import load_iris\n",
    "from sklearn.tree import DecisionTreeClassifier, plot_tree\n",
    "from matplotlib.colors import ListedColormap"
   ]
  },
  {
   "cell_type": "code",
   "execution_count": 7,
   "id": "eeb8ad5f-2db3-45ad-9f43-eade03895ccb",
   "metadata": {
    "ExecuteTime": {
     "end_time": "2024-01-12T03:58:32.252427Z",
     "start_time": "2024-01-12T03:58:32.250256Z"
    }
   },
   "outputs": [],
   "source": [
    "def train_plot(clf,title_str,X,y):\n",
    "    print(\"6\")\n",
    "    names = ['Sepal length, x1', 'Sepal width, x2'];\n",
    "    \n",
    "    # Create color maps\n",
    "    rgb = [[255, 238, 255],  # red\n",
    "           [219, 238, 244],  # blue\n",
    "           [228, 228, 228]]  # black\n",
    "    rgb = np.array(rgb)/255.\n",
    "    \n",
    "    cmap_light = ListedColormap(rgb)\n",
    "    cmap_bold = [[255, 51, 0], [0, 153, 255],[138,138,138]]\n",
    "    cmap_bold = np.array(cmap_bold)/255.\n",
    "    \n",
    "    plot_step = 0.02\n",
    "    x_min, x_max = X[:, 0].min() - 1, X[:, 0].max() + 1\n",
    "    y_min, y_max = X[:, 1].min() - 1, X[:, 1].max() + 1\n",
    "    xx, yy = np.meshgrid(np.arange(x_min, x_max, plot_step),\n",
    "                         np.arange(y_min, y_max, plot_step))\n",
    "\n",
    "    fig, ax = plt.subplots()\n",
    "    \n",
    "    Z = clf.predict(np.c_[xx.ravel(), yy.ravel()])\n",
    "    Z = Z.reshape(xx.shape)\n",
    "    \n",
    "    # plot regions\n",
    "    plt.contourf(xx, yy, Z, cmap=cmap_light)\n",
    "    \n",
    "    # plot decision boundaries\n",
    "    plt.contour(xx, yy, Z, levels=[0,1,2], colors=np.array([0, 68, 138])/255.)\n",
    "    \n",
    "    plt.xlabel(names[0])\n",
    "    plt.ylabel(names[1])\n",
    "\n",
    "    # Plot the training points\n",
    "    sns.scatterplot(x=X[:, 0], y=X[:, 1], hue=iris.target_names[y],\n",
    "                    palette=cmap_bold, alpha=1.0, \n",
    "                    linewidth = 1, edgecolor=[1,1,1])\n",
    "    plt.title(title_str)\n",
    "    plt.xlim(xx.min(), xx.max())\n",
    "    plt.ylim(yy.min(), yy.max())\n",
    "    plt.xticks(np.arange(4, 9, step=1))\n",
    "    plt.yticks(np.arange(2, 6, step=1))\n",
    "    plt.xlabel(iris.feature_names[0])\n",
    "    plt.ylabel(iris.feature_names[1])\n",
    "    ax.grid(linestyle='--', linewidth=0.25, color=[0.5,0.5,0.5])\n",
    "    plt.tight_layout()\n",
    "    plt.axis('scaled')\n",
    "\n",
    "    # plot tree structure\n",
    "    \n",
    "    fig, ax = plt.subplots()\n",
    "    \n",
    "    plot_tree(clf, filled=True,\n",
    "              feature_names=[names[0],names[1]], \n",
    "              rounded = True)\n",
    "    plt.title(title_str) \n",
    "    plt.show()"
   ]
  },
  {
   "cell_type": "code",
   "execution_count": 9,
   "id": "6e4f513c-2b9b-4aa6-a96b-348a1cdad0a3",
   "metadata": {
    "ExecuteTime": {
     "end_time": "2024-01-12T03:59:23.822134Z",
     "start_time": "2024-01-12T03:59:23.820023Z"
    }
   },
   "outputs": [
    {
     "ename": "SyntaxError",
     "evalue": "unexpected character after line continuation character (4016119680.py, line 13)",
     "output_type": "error",
     "traceback": [
      "\u001B[0;36m  Cell \u001B[0;32mIn[9], line 13\u001B[0;36m\u001B[0m\n\u001B[0;31m    train_plot(clf,title_str,X,y)\\]\u001B[0m\n\u001B[0m                                  ^\u001B[0m\n\u001B[0;31mSyntaxError\u001B[0m\u001B[0;31m:\u001B[0m unexpected character after line continuation character\n"
     ]
    }
   ],
   "source": [
    "# Load data\n",
    "iris = load_iris()\n",
    "\n",
    "# Use the first two features\n",
    "X = iris.data[:, [0, 1]]\n",
    "y = iris.target\n",
    "\n",
    "# Varying max_leaf_nodes\n",
    "for max_leaf_nodes in [2,3,4,5,10,15,20]:\n",
    "\n",
    "    clf = DecisionTreeClassifier(max_leaf_nodes=max_leaf_nodes).fit(X, y)\n",
    "    title_str = \"Max leaf nodes = {:.0f}\".format(max_leaf_nodes)\n",
    "    train_plot(clf,title_str,X,y)\\]\n",
    "    "
   ]
  },
  {
   "cell_type": "code",
   "outputs": [],
   "source": [],
   "metadata": {
    "collapsed": false
   },
   "id": "3863d7c21681560d"
  }
 ],
 "metadata": {
  "kernelspec": {
   "display_name": "Python 3 (ipykernel)",
   "language": "python",
   "name": "python3"
  },
  "language_info": {
   "codemirror_mode": {
    "name": "ipython",
    "version": 3
   },
   "file_extension": ".py",
   "mimetype": "text/x-python",
   "name": "python",
   "nbconvert_exporter": "python",
   "pygments_lexer": "ipython3",
   "version": "3.9.18"
  }
 },
 "nbformat": 4,
 "nbformat_minor": 5
}
